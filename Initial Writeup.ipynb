{
 "cells": [
  {
   "cell_type": "markdown",
   "id": "69fbeaef",
   "metadata": {},
   "source": [
    "# <font color='#6495ED'>A Plan Beyond Retirement</font>"
   ]
  },
  {
   "cell_type": "markdown",
   "id": "57adbc71",
   "metadata": {},
   "source": [
    "<font color='#6495ED'>_____________________________________________________________________</font>"
   ]
  },
  {
   "cell_type": "markdown",
   "id": "69dfa80a",
   "metadata": {},
   "source": [
    "***<font color='#6495ED'>Teammates:</font>***\n",
    "- Munukutla Durga Venkata Kashyap\n",
    "- Sai Mahesh Vemulapalli\n",
    "- Aneesh Potnis\n",
    "- Aditya Pimpley\n",
    "- Neksha Patel\n",
    "\n",
    "GITHUB LINK: "
   ]
  },
  {
   "cell_type": "markdown",
   "id": "1ad2c50e",
   "metadata": {},
   "source": [
    "**<font color='#6495ED'>Introduction:</font>**"
   ]
  },
  {
   "cell_type": "markdown",
   "id": "31048f62",
   "metadata": {},
   "source": [
    "Predicting an individual's life expectancy has long been a focal point for researchers, delving into the intricate interplay between medical and socioeconomic factors that shape the trajectory of one's life. This pursuit is underscored by the fundamental question: \"What is the life expectancy of a person, given their medical and socioeconomic history?\" The potential advantages of unraveling this mystery extend far beyond the realm of academia, promising significant strides in practical domains such as personal finance and retirement planning. Imagine a future where individuals can meticulously tailor their financial strategies based on a nuanced understanding of their likely lifespan. This could result in a paradigm shift in retirement planning, with people making informed decisions about when to retire, how to allocate their savings, and how to optimize their healthcare investments. Furthermore, this knowledge could empower healthcare professionals to engage in proactive and personalized healthcare planning, especially for those deemed at-risk due to medical or socioeconomic factors. In essence, a plan beyond retirement emerges, where the fusion of predictive analytics and personalized strategies revolutionizes not only the individual's approach to their future but also the broader landscape of financial and healthcare sectors."
   ]
  },
  {
   "cell_type": "markdown",
   "id": "ddddcfbc",
   "metadata": {},
   "source": [
    "**<font color='#6495ED'>Changes made since the proposal:</font>**"
   ]
  },
  {
   "cell_type": "markdown",
   "id": "f6ee3092",
   "metadata": {},
   "source": [
    "Upon careful review and consideration, it is noteworthy that there have been no alterations to the initial proposal outlined in the check-in presentation. The project's scope, objectives, and key components have remained consistent, underscoring the stability and continuity of the planned approach."
   ]
  },
  {
   "cell_type": "markdown",
   "id": "b618060a",
   "metadata": {},
   "source": [
    "**<font color='#6495ED'>Data:<font>**"
   ]
  },
  {
   "cell_type": "markdown",
   "id": "4dda7999",
   "metadata": {},
   "source": [
    "\n",
    "The dataset, sourced from the University of Michigan Health and Retirement Study (HRS), comprises longitudinal population health data focusing on transitions across ages 50 to 99, income groups, and gender. With 301 rows and 32 columns, the data encompasses quantitative (age), categorical/nominal (gender), and categorical/ordinal (income group) variables. The core of the dataset lies in the quantitative and discrete representation of health transitions, detailing shifts between Good Health, Bad Health, Nursing Home (NH), and Home Health Care (HHC) states. This dataset offers a comprehensive perspective on the complex interplay of age, gender, income, and health transitions within the studied population."
   ]
  }
 ],
 "metadata": {
  "kernelspec": {
   "display_name": "Python 3 (ipykernel)",
   "language": "python",
   "name": "python3"
  },
  "language_info": {
   "codemirror_mode": {
    "name": "ipython",
    "version": 3
   },
   "file_extension": ".py",
   "mimetype": "text/x-python",
   "name": "python",
   "nbconvert_exporter": "python",
   "pygments_lexer": "ipython3",
   "version": "3.11.4"
  }
 },
 "nbformat": 4,
 "nbformat_minor": 5
}
